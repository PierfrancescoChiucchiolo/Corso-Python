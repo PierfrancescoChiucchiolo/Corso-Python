{
 "cells": [
  {
   "cell_type": "markdown",
   "metadata": {},
   "source": [
    "Scoprite Kaggle e confrontatevi sulla piattaforma, vi invito ad esplorarla per bene in quanto punto di riferimento per il machine learning e ai moderna\n",
    "\n",
    "kaggle.com\n",
    "\n",
    "Provare ad analizzare tutti insieme un nuovo set di dati:\n",
    "\n",
    "https://www.kaggle.com/competitions/playground-series-s4e10/code\n",
    "\n",
    "C’è anche una sezione con I risultati di alcuni utenti e il loro codice, provate a scoprire se ci sono dei passaggi interessati per quanto riguarda l’analisi e aggiungeteli al vostro foglio con le funzioni di analisi\n",
    "\n",
    "Sempre prendendo spunto dai risultati di altri utenti provarte a creare un modello di machine learning e a mettere il risultato dell’analisi su kaggle… vi restituirà un punteggio in base al quale verrete posizionati in una classifica sull’argomento\n",
    "\n",
    "Inviare un solo file jupyter (rappresentativo della classe) con codice, analisi e commento sempre a mbagnoli999@gmail.com\n",
    "\n",
    "\n",
    "utile questo file dell'utente\n",
    "https://www.kaggle.com/code/pankajdebroy/0-95908-loan-approval-prediction\n",
    "\n",
    "cb_person_cred_hist_length = anni dall'ultimo prestito\n",
    "cb_person_default_on_file = persona inadempiente in passato\n",
    "\n",
    "\n",
    "analisi del primo posto di un altro utente\n",
    "https://www.kaggle.com/competitions/playground-series-s4e10/discussion/543725"
   ]
  }
 ],
 "metadata": {
  "language_info": {
   "name": "python"
  }
 },
 "nbformat": 4,
 "nbformat_minor": 2
}
