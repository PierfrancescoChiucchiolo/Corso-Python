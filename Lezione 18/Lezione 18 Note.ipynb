{
 "cells": [
  {
   "cell_type": "markdown",
   "metadata": {},
   "source": [
    "cose da cercare:\n",
    "\n",
    "media revenue - budget\n",
    "media costo per minuto di pellicola\n",
    "media voti per paese di produzione\n",
    "media voti per genere\n",
    "\n",
    "correlazione per genere1 e genere2, vedi quanta popolarità\n",
    "\n",
    "hotmap revenue budget vote_average\n",
    "\n",
    "sopra e sotto budet medio vediamo la heatmap\n",
    "\n",
    "variazione dei registi con il passare degli anni\n"
   ]
  }
 ],
 "metadata": {
  "language_info": {
   "name": "python"
  }
 },
 "nbformat": 4,
 "nbformat_minor": 2
}
