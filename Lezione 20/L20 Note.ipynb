{
 "cells": [
  {
   "cell_type": "markdown",
   "metadata": {},
   "source": [
    "Il machine learning è un sottoinsieme dell'intelligenza artificiale\n",
    "permette ai computer di migliorare le prestazioni senza essere esplicitamente istruito al compito affidato\n",
    "ciò avviene tramite riconoscimento di pattern e inferenze piuttosto che regole esplicite\n",
    "partendo dai dati e assegnando opportunamente i pesi ai valori in campo si prendono decisioni e fanno previsioni\n",
    "alla macchina viene dato uno scope (target) e essa apprende dai dati\n",
    "\n",
    "un modello è uno strumento matematico che da un input restituisce un output coerente con il target\n",
    "\n",
    "la macchina apprende con vasti dataset, essi possono essere etichettati o no (supervised/unsupervised learning)\n",
    "supervised fornisce label per il training e gli vengono chiesti i label del test\n",
    "unsupervised si basa invece sulle inferenze sui dati per trovare pattern\n",
    "uno dei metodi usati è l'apprendimento per rinforzo, usando premi e punizioni (più o meno cicli/tempo di esecuzione, dati più precisi)\n",
    "\n",
    "le reti neurali sono una classe di modelli del ML, composti da strati composti a loro volta da neuroni (nodi), particolarmente efficaci per elaborazione del linguaggio\n",
    "strati input/nascosti/output (attributi del dataset/formule di elaborazione/stato finale)\n",
    "le connessioni tra gli stati (le sinapsi) hanno diversi pesi per indicare quanto forti sono queste connessioni\n",
    "durante il training si confronta il target (output voluto) e l'output effettivo (output del ML), poi si eseguono algoritmi di ottimizzazione e perdita\n",
    "\n",
    "supervisionato : valori ed etichette\n",
    "non supervisionato: si concentra sulle connessioni e ne ricava i pesi\n",
    "\n",
    "overfitting (si impara troppo bene alcune cose che non sono traslabili nel contesto effettivo)\n",
    "underfitting (si impara un sottoinsieme di ciò che viene richiesto)\n",
    "validazione e test (fase di regolazione dei parametri)\n",
    "\n",
    "scikit-learn è una libreria di ML in python con algoritmi pronti all'uso\n",
    "tensor-flow è sviluppata da google con capacità a larga scala che usa cpu e gpu\n",
    "pytorch è usato principalmente in ambito accademico per ricerca, offre grafici dinamici\n",
    "\n",
    "carica dati / divisione test e practice / crea modello con random forest / fit (addestramento) / predict / accuracy score\n"
   ]
  },
  {
   "cell_type": "code",
   "execution_count": 3,
   "metadata": {},
   "outputs": [
    {
     "name": "stdout",
     "output_type": "stream",
     "text": [
      "1.5.2\n"
     ]
    }
   ],
   "source": [
    "import sklearn\n",
    "print(sklearn.__version__)"
   ]
  },
  {
   "cell_type": "markdown",
   "metadata": {},
   "source": [
    "iris è un modello di 150 campioni di iris con 3 diverse specie e 4 caratteristiche (lunghezza/larghezza/petali/sepali)\n",
    "\n",
    "make_classification:\n",
    "Genera dataset sintetici per problemi di classificazione con controlli sul numero di caratteristiche informative, ridondanti e rumorose.\n",
    "\n",
    "make_regression:\n",
    "Crea dataset per problemi di regressione, permettendo di specificare il numero di caratteristiche e il livello di rumore.\n",
    "\n",
    "make_blobs:\n",
    "Genera cluster di punti distribuiti in modo gaussiano, utile per testare algoritmi di clustering.\n",
    "\n",
    "make_circles e make_moons:\n",
    "Producono dataset bidimensionali con forme specifiche, utili per visualizzare e testare algoritmi di classificazione non lineare.\n",
    "\n",
    "metodi comuni a tutti i modelli:\n",
    "fit(X, y): Addestra il modello utilizzando i dati di input X e i target y.\n",
    "predict(X): Genera predizioni per i nuovi dati X utilizzando il modello addestrato.\n",
    "score(X, y): Valuta le prestazioni del modello su un set di test X con target y."
   ]
  },
  {
   "cell_type": "code",
   "execution_count": null,
   "metadata": {},
   "outputs": [
    {
     "name": "stdout",
     "output_type": "stream",
     "text": [
      "Accuratezza del modello: 1.00\n"
     ]
    }
   ],
   "source": [
    "# Importare le librerie necessarie\n",
    "from sklearn.datasets import load_iris\n",
    "from sklearn.model_selection import train_test_split\n",
    "from sklearn.neighbors import KNeighborsClassifier\n",
    "from sklearn.metrics import accuracy_score\n",
    "\n",
    "# Caricare il dataset Iris\n",
    "iris = load_iris()\n",
    "X = iris.data  # Caratteristiche (lunghezza e larghezza di sepali e petali)\n",
    "y = iris.target  # Etichette (specie di Iris)\n",
    "\n",
    "# Suddividere il dataset in set di training e test\n",
    "X_train, X_test, y_train, y_test = train_test_split(X, y, test_size=0.2, random_state=42)\n",
    "\n",
    "# Definire il modello: K-Nearest Neighbors Classifier\n",
    "## alto = troppo semplice e alto bias / basso = troppo rumoroso e alta varianza\n",
    "model = KNeighborsClassifier(n_neighbors=3)\n",
    "\n",
    "# Addestrare il modello sui dati di training\n",
    "model.fit(X_train, y_train)\n",
    "\n",
    "# Fare predizioni sui dati di test\n",
    "y_pred = model.predict(X_test)\n",
    "\n",
    "# Valutare le prestazioni del modello\n",
    "accuracy = accuracy_score(y_test, y_pred)\n",
    "print(f\"Accuratezza del modello: {accuracy:.2f}\")"
   ]
  },
  {
   "cell_type": "markdown",
   "metadata": {},
   "source": [
    "La valutazione di un modello è il processo di misurazione della sua accuratezza o efficacia nel fare previsioni su dati non visti. \n",
    "\n",
    "In problemi di classificazione, una metrica comunemente usata è l'accuratezza, che misura la proporzione di previsioni corrette rispetto al totale. \n",
    "\n",
    "In problemi di regressione, invece, una metrica diffusa è l'errore quadratico medio (MSE), che misura quanto le previsioni differiscono dai valori reali. \n",
    "\n",
    "Valutare correttamente un modello aiuta a capire se esso è affidabile e se può essere usato in produzione."
   ]
  },
  {
   "cell_type": "code",
   "execution_count": null,
   "metadata": {},
   "outputs": [],
   "source": [
    "from sklearn.datasets import load_iris\n",
    "\n",
    "data = load_iris()\n",
    "X = data.data  # caratteristiche\n",
    "y = data.target  # target\n",
    "\n",
    "\n",
    "## serve per normalizzare e ridimensionare\n",
    "from sklearn.preprocessing import StandardScaler\n",
    "\n",
    "scaler = StandardScaler()\n",
    "X_scaled = scaler.fit_transform(X)\n",
    "\n",
    "\n",
    "## regressione lineare\n",
    "from sklearn.linear_model import LinearRegression\n",
    "model = LinearRegression()\n",
    "model.fit(X, y)\n",
    "predictions = model.predict(X)\n",
    "\n",
    "\n",
    "## estrai componenti\n",
    "from sklearn.decomposition import PCA\n",
    "pca = PCA(n_components=2)\n",
    "X_pca = pca.fit_transform(X_scaled)\n",
    "\n",
    "\n",
    "## K-Nearest Neighbors (KNN)\n",
    "from sklearn.neighbors import KNeighborsClassifier\n",
    "knn = KNeighborsClassifier(n_neighbors=3)\n",
    "knn.fit(X, y)\n",
    "predictions = knn.predict(X)\n",
    "\n",
    "\n",
    "## separazione train e test\n",
    "from sklearn.model_selection import train_test_split\n",
    "X_train, X_test, y_train, y_test = train_test_split(X, y, test_size=0.3, random_state=42)\n",
    "\n",
    "## accuracy\n",
    "from sklearn.metrics import accuracy_score\n",
    "accuracy = accuracy_score(y_test, predictions)\n",
    "\n",
    "## mse per regressione\n",
    "from sklearn.metrics import mean_squared_error\n",
    "mse = mean_squared_error(y_test, predictions)"
   ]
  }
 ],
 "metadata": {
  "kernelspec": {
   "display_name": "Python 3",
   "language": "python",
   "name": "python3"
  },
  "language_info": {
   "codemirror_mode": {
    "name": "ipython",
    "version": 3
   },
   "file_extension": ".py",
   "mimetype": "text/x-python",
   "name": "python",
   "nbconvert_exporter": "python",
   "pygments_lexer": "ipython3",
   "version": "3.13.0"
  }
 },
 "nbformat": 4,
 "nbformat_minor": 2
}
