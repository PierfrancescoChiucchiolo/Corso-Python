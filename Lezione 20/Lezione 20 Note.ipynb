{
 "cells": [
  {
   "cell_type": "markdown",
   "metadata": {},
   "source": [
    "Il machine learning è un sottoinsieme dell'intelligenza artificiale\n",
    "permette ai computer di migliorare le prestazioni senza essere esplicitamente istruito al compito affidato\n",
    "ciò avviene tramite riconoscimento di pattern e inferenze piuttosto che regole esplicite\n",
    "partendo dai dati e assegnando opportunamente i pesi ai valori in campo si prendono decisioni e fanno previsioni\n",
    "\n",
    "la macchina apprende con vasti dataset, essi possono essere etichettati o no (supervised/unsupervised learning)\n",
    "uno dei metodi usati è l'apprendimento per rinforzo, usando premi e punizioni (più o meno cicli/tempo di esecuzione, dati più precisi)\n",
    "\n",
    "le reti neurali sono una classe di modelli del ML, composti da strati composti a loro volta da neuroni (nodi), particolarmente efficaci per elaborazione del linguaggio\n",
    "strati input/nascosti/output (attributi del dataset/formule di elaborazione/stato finale)\n",
    "le connessioni tra gli stati (le sinapsi) hanno diversi pesi per indicare quanto forti sono queste connession\n",
    "durante il training si confronta il target (output voluto) e l'output effettivo (output del ML), poi si eseguono algoritmi di ottimizzazione e perdita\n",
    "\n",
    "overfitting (si impara troppo bene alcune cose che non sono traslabili nel contesto effettivo)\n",
    "underfitting (si impara un sottoinsieme di ciò che viene richiesto)\n",
    "validazione e test (fase di regolazione dei parametri)\n",
    "\n",
    "scikit-learn è una libreria di ML in python con algoritmi pronti all'uso\n",
    "tensor-flow è sviluppata da google con capacità a larga scala che usa cpu e gpu\n",
    "pytorch è usato principalmente in ambito accademico per ricerca, offre grafici dinamici\n",
    "\n",
    "carica dati / divisione test e practice / crea modello con random forest / fit (addestramento) / predict / accuracy score\n"
   ]
  },
  {
   "cell_type": "code",
   "execution_count": 1,
   "metadata": {},
   "outputs": [
    {
     "name": "stdout",
     "output_type": "stream",
     "text": [
      "1.5.2\n"
     ]
    }
   ],
   "source": [
    "import sklearn\n",
    "print(sklearn.__version__)"
   ]
  },
  {
   "cell_type": "markdown",
   "metadata": {},
   "source": [
    "iris è un modello di 150 campioni di iris con 3 diverse specie e 4 caratteristiche (lunghezza/larghezza/petali/sepali)\n",
    "\n",
    "make_classification:\n",
    "Genera dataset sintetici per problemi di classificazione con controlli sul numero di caratteristiche informative, ridondanti e rumorose.\n",
    "\n",
    "make_regression:\n",
    "Crea dataset per problemi di regressione, permettendo di specificare il numero di caratteristiche e il livello di rumore.\n",
    "\n",
    "make_blobs:\n",
    "Genera cluster di punti distribuiti in modo gaussiano, utile per testare algoritmi di clustering.\n",
    "\n",
    "make_circles e make_moons:\n",
    "Producono dataset bidimensionali con forme specifiche, utili per visualizzare e testare algoritmi di classificazione non lineare."
   ]
  }
 ],
 "metadata": {
  "kernelspec": {
   "display_name": "Python 3",
   "language": "python",
   "name": "python3"
  },
  "language_info": {
   "codemirror_mode": {
    "name": "ipython",
    "version": 3
   },
   "file_extension": ".py",
   "mimetype": "text/x-python",
   "name": "python",
   "nbconvert_exporter": "python",
   "pygments_lexer": "ipython3",
   "version": "3.13.0"
  }
 },
 "nbformat": 4,
 "nbformat_minor": 2
}
