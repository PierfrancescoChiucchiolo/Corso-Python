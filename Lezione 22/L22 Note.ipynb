{
 "cells": [
  {
   "cell_type": "markdown",
   "metadata": {},
   "source": [
    "Iperparametri:\n",
    "Gli algoritmi in scikit-learn offrono numerosi iperparametri che possono essere regolati per ottimizzare le prestazioni del modello.\n",
    "L'uso di tecniche come GridSearchCV e RandomizedSearchCV aiuta a trovare la combinazione migliore."
   ]
  },
  {
   "cell_type": "markdown",
   "metadata": {},
   "source": [
    "metodi ensemble (riducono la varianza)\n",
    "\n",
    "bagging: come alberi di decisione addestrati su sottocampioni e poi riassemblati\n",
    "boosting: modelli sequenziali che migliorano sul precedente\n",
    "\n",
    "\n",
    "algoritmi di clustering (tecnica di apprendimento non supervisionato che lavora per similarità)\n",
    "\n",
    "K-Means: Partiziona i dati in 'k' cluster minimizzando la varianza all'interno dei cluster.\n",
    "\n",
    "Agglomerative Clustering: Un approccio gerarchico che unisce iterativamente i cluster più simili.\n",
    "\n",
    "\n",
    "DBSCAN: Identifica cluster basati sulla densità dei punti, efficace nel rilevare forme di cluster arbitrarie e gestire outlier.\n"
   ]
  },
  {
   "cell_type": "markdown",
   "metadata": {},
   "source": [
    "validazione: set di dati per la raffinazione di iperparametri del modello (come unità nascoste della rete artificiale)\n",
    "\n",
    "consistenza di api: cambio di sistema non rilevato dal codice, dipende solo dai dati"
   ]
  },
  {
   "cell_type": "markdown",
   "metadata": {},
   "source": [
    "La riduzione della dimensionalità è il processo di ridurre il numero di variabili casuali sotto considerazione, ottenendo un insieme di caratteristiche principali.\n",
    "\n",
    "Questo è utile per visualizzare dati ad alta dimensionalità, ridurre il rumore emigliorare l'efficienza computazionale.\n",
    "\n",
    "Tecniche comuni includono l'Analisi delle Componenti Principali (PCA), t-SNE e l'Analisi Discriminante Lineare (LDA)\n",
    "\n",
    "\n",
    "PCA (Analisi delle Componenti Principali): Trasforma i dati in un nuovo sistema di coordinate, riducendo le dimensioni mentre mantiene la maggior parte della varianza.\n",
    "\n",
    "t-SNE: Tecnica per la visualizzazionedei dati ad alta dimensionalità in spazibidimensionali o tridimensionali,preservando le relazioni locali."
   ]
  }
 ],
 "metadata": {
  "language_info": {
   "name": "python"
  }
 },
 "nbformat": 4,
 "nbformat_minor": 2
}
