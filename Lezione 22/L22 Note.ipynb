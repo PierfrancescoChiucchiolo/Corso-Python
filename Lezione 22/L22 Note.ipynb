{
 "cells": [
  {
   "cell_type": "markdown",
   "metadata": {},
   "source": [
    "Iperparametri:\n",
    "Gli algoritmi in scikit-learn offrono numerosi iperparametri che possono essere regolati per ottimizzare le prestazioni del modello.\n",
    "L'uso di tecniche come GridSearchCV e RandomizedSearchCV aiuta a trovare la combinazione migliore."
   ]
  },
  {
   "cell_type": "markdown",
   "metadata": {},
   "source": [
    "metodi ensemble (riducono la varianza)\n",
    "\n",
    "bagging: come alberi di decisione addestrati su sottocampioni e poi riassemblati\n",
    "boosting: modelli sequenziali che migliorano sul precedente\n",
    "\n",
    "\n",
    "algoritmi di clustering (tecnica di apprendimento non supervisionato che lavora per similarità)\n",
    "\n",
    "K-Means: Partiziona i dati in 'k' cluster minimizzando la varianza all'interno dei cluster.\n",
    "\n",
    "Agglomerative Clustering: Un approccio gerarchico che unisce iterativamente i cluster più simili.\n",
    "\n",
    "\n",
    "DBSCAN: Identifica cluster basati sulla densità dei punti, efficace nel rilevare forme di cluster arbitrarie e gestire outlier.\n"
   ]
  },
  {
   "cell_type": "markdown",
   "metadata": {},
   "source": [
    "validazione: set di dati per la raffinazione di iperparametri del modello (come unità nascoste della rete artificiale)\n",
    "\n",
    "consistenza di api: cambio di sistema non rilevato dal codice, dipende solo dai dati"
   ]
  },
  {
   "cell_type": "markdown",
   "metadata": {},
   "source": [
    "La riduzione della dimensionalità è il processo di ridurre il numero di variabili casuali sotto considerazione, ottenendo un insieme di caratteristiche principali.\n",
    "\n",
    "Questo è utile per visualizzare dati ad alta dimensionalità, ridurre il rumore emigliorare l'efficienza computazionale.\n",
    "\n",
    "Tecniche comuni includono l'Analisi delle Componenti Principali (PCA), t-SNE e l'Analisi Discriminante Lineare (LDA)\n",
    "\n",
    "\n",
    "PCA (Analisi delle Componenti Principali): Trasforma i dati in un nuovo sistema di coordinate, riducendo le dimensioni mentre mantiene la maggior parte della varianza.\n",
    "\n",
    "t-SNE: Tecnica per la visualizzazionedei dati ad alta dimensionalità in spazibidimensionali o tridimensionali,preservando le relazioni locali.\n",
    "\n",
    "\n",
    "Algebra Lineare (scipy.linalg)\n",
    "Integrazione e Equazioni Differenziali (scipy.integrate)\n",
    "Statistica (scipy.stats)\n",
    "\n",
    "Ottimizzazione (scipy.optimize)\n",
    "Elaborazione del Segnale (scipy.signal)\n",
    "Trasformate di Fourier (scipy.fft)\n",
    "\n",
    "\n",
    "\n",
    "Reti Neurali Artificiali: Le reti neurali artificiali (ANN) sono modelli computazionali ispirati alla struttura del cervello umano. \n",
    "\n",
    "Sono composte da strati di neuroni artificiali che elaborano le informazioni attraverso connessioni sinaptiche simulate. Le reti\n",
    "neurali sono particolarmente efficaci per problemi complessi come il riconoscimento di immagini, l'elaborazione del linguaggio naturale e la previsione di serie temporali.\n",
    "\n",
    "\n",
    "\n",
    "In questo esempio, costruiremo una rete neurale per classificare le cifre scritte a mano utilizzando il dataset MNIST. Utilizzeremo TensorFlow e Keras per implementare e addestrare la rete neurale.\n",
    "\n",
    "\n",
    "\n",
    "\n",
    "Machine Learning (Apprendimento Automatico) e Deep Learning (Apprendimento Profondo) sono entrambi sottocampi dell'intelligenza artificiale, ma presentano differenze chiave:\n",
    "\n",
    "Machine Learning\n",
    "Definizione: Disciplina che permette ai computer di apprendere dai dati senza essere esplicitamente programmati per ogni compito.\n",
    "Tecniche: Include algoritmi come regressione lineare, alberi decisionali, SVM, k-NN, clustering, ecc.\n",
    "Feature Engineering: Richiede spesso l'estrazione manuale di caratteristiche dai dati per alimentare gli algoritmi di apprendimento.\n",
    "\n",
    "Deep Learning\n",
    "Definizione: Sottocampo del machine learning che utilizza reti neurali artificiali profonde per modellare e comprendere dati complessi.\n",
    "Reti Neurali Profonde: Composte da molti strati (layers) che permettono di apprendere rappresentazioni gerarchiche dei dati.\n",
    "Feature Learning Automatizzato: Le reti neurali possono estrarre automaticamente le caratteristiche rilevanti dai dati grezzi.\n",
    "\n",
    "\n",
    "Struttura del Modello:\n",
    "Machine Learning: Modelli più semplici o reti neurali con pochi strati.\n",
    "Deep Learning: Reti neurali con molti strati, capaci di apprendere rappresentazioni complesse.\n",
    "Dati Necessari:\n",
    "Machine Learning: Può funzionare bene con dataset di dimensioni moderate.\n",
    "Deep Learning: Richiede grandi quantità di dati per evitare overfitting e ottenere buone prestazioni.\n",
    "Potenza Computazionale:\n",
    "Machine Learning: Meno esigente in termini di risorse computazionali.\n",
    "Deep Learning: Richiede hardware potente (come GPU) per l'addestramento.\n",
    "Feature Engineering:\n",
    "Machine Learning: Spesso necessita di pre-elaborazione e selezione manuale delle caratteristiche.\n",
    "Deep Learning: Esegue l'apprendimento delle caratteristiche in modo autonomo.\n",
    "Applicazioni Tipiche:\n",
    "Machine Learning: Previsioni statistiche, analisi di dati strutturati, sistemi di raccomandazione.\n",
    "Deep Learning: Riconoscimento di immagini e voce, elaborazione del linguaggio naturale, guida autonoma."
   ]
  }
 ],
 "metadata": {
  "language_info": {
   "name": "python"
  }
 },
 "nbformat": 4,
 "nbformat_minor": 2
}
