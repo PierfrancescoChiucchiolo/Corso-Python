{
 "cells": [
  {
   "cell_type": "markdown",
   "metadata": {},
   "source": [
    "Algebra Lineare (scipy.linalg)\n",
    "Integrazione e Equazioni Differenziali (scipy.integrate)\n",
    "Statistica (scipy.stats)\n",
    "\n",
    "Ottimizzazione (scipy.optimize)\n",
    "Elaborazione del Segnale (scipy.signal)\n",
    "Trasformate di Fourier (scipy.fft)"
   ]
  },
  {
   "cell_type": "markdown",
   "metadata": {},
   "source": [
    "Reti Neurali Artificiali: Le reti neurali artificiali (ANN) sono modelli computazionali ispirati alla struttura del cervello umano. \n",
    "\n",
    "Sono composte da strati di neuroni artificiali che elaborano le informazioni attraverso connessioni sinaptiche simulate. Le reti\n",
    "neurali sono particolarmente efficaci per problemi complessi come il riconoscimento di immagini, l'elaborazione del linguaggio naturale e la previsione di serie temporali.\n",
    "\n",
    "\n",
    "Machine Learning (Apprendimento Automatico) e Deep Learning (Apprendimento Profondo) sono entrambi sottocampi dell'intelligenza artificiale, ma presentano differenze chiave:\n",
    "\n",
    "Machine Learning\n",
    "Definizione: Disciplina che permette ai computer di apprendere dai dati senza essere esplicitamente programmati per ogni compito.\n",
    "Tecniche: Include algoritmi come regressione lineare, alberi decisionali, SVM, k-NN, clustering, ecc.\n",
    "Feature Engineering: Richiede spesso l'estrazione manuale di caratteristiche dai dati per alimentare gli algoritmi di apprendimento.\n",
    "\n",
    "Deep Learning\n",
    "Definizione: Sottocampo del machine learning che utilizza reti neurali artificiali profonde per modellare e comprendere dati complessi.\n",
    "Reti Neurali Profonde: Composte da molti strati (layers) che permettono di apprendere rappresentazioni gerarchiche dei dati.\n",
    "Feature Learning Automatizzato: Le reti neurali possono estrarre automaticamente le caratteristiche rilevanti dai dati grezzi.\n",
    "\n",
    "\n",
    "Struttura del Modello:\n",
    "Machine Learning: Modelli più semplici o reti neurali con pochi strati.\n",
    "Deep Learning: Reti neurali con molti strati, capaci di apprendere rappresentazioni complesse.\n",
    "Dati Necessari:\n",
    "Machine Learning: Può funzionare bene con dataset di dimensioni moderate.\n",
    "Deep Learning: Richiede grandi quantità di dati per evitare overfitting e ottenere buone prestazioni.\n",
    "Potenza Computazionale:\n",
    "Machine Learning: Meno esigente in termini di risorse computazionali.\n",
    "Deep Learning: Richiede hardware potente (come GPU) per l'addestramento.\n",
    "Feature Engineering:\n",
    "Machine Learning: Spesso necessita di pre-elaborazione e selezione manuale delle caratteristiche.\n",
    "Deep Learning: Esegue l'apprendimento delle caratteristiche in modo autonomo.\n",
    "Applicazioni Tipiche:\n",
    "Machine Learning: Previsioni statistiche, analisi di dati strutturati, sistemi di raccomandazione.\n",
    "Deep Learning: Riconoscimento di immagini e voce, elaborazione del linguaggio naturale, guida autonoma.ANI: Narrow AI, or Weak AI\n",
    "\n"
   ]
  },
  {
   "cell_type": "markdown",
   "metadata": {},
   "source": [
    "ANI is mainly used to perform specific jobs without learning beyond what it’s meant for.\n",
    "\n",
    "AGI: General AI, or Strong AI\n",
    "AGI is like human intelligence and can do many things at once.\n",
    "\n",
    "ASI: Artificial Super:ntelligence\n",
    "ASI is smarter than the human mind and can perform any task better."
   ]
  },
  {
   "cell_type": "markdown",
   "metadata": {},
   "source": [
    "TensorFlow è una libreria open-source sviluppata da Google per il calcolo numerico e l'apprendimento automatico su larga scala. \n",
    "È particolarmente utilizzata per implementare e addestrare modelli di deep learning. \n",
    "\n",
    "I suoi elementi fondamentali includono:\n",
    "\n",
    "Tensori: La struttura dati di base in TensorFlow. Un tensore è un array multidimensionale che rappresenta dati numerici.\n",
    "Possono avere dimensioni da zero (uno scalare) a N dimensioni.\n",
    "Grafi Computazionali: TensorFlow utilizza grafi per rappresentare le operazioni matematiche.\n",
    "I nodi del grafo rappresentano operazioni matematiche, mentre gli spigoli rappresentano i tensori che fluiscono tra queste operazioni.\n",
    "Esecuzione Eager: Introdotta in TensorFlow 2.x, permette l'esecuzione immediata delle operazioni senza la necessità di costruire un grafo computazionale, rendendo il codice più intuitivo e simile a Python standard."
   ]
  },
  {
   "cell_type": "markdown",
   "metadata": {},
   "source": [
    "Elementi del DL:\n",
    "\n",
    "Modello Sequenziale (API semplice senza diramazioni)\n",
    "from keras.models import Sequential\n",
    "from keras.layers import Dense\n",
    "\n",
    "model = Sequential()\n",
    "model.add(Dense(64, activation='relu', input_dim=100))\n",
    "model.add(Dense(10, activation='softmax'))\n",
    "\n",
    "Modello Funzionale (modelli più complessi, entrare e uscite multiple, più flessibile)\n",
    "from keras.layers import Input, Dense\n",
    "from keras.models import Model\n",
    "\n",
    "inputs = Input(shape=(100,))\n",
    "x = Dense(64, activation='relu')(inputs)\n",
    "outputs = Dense(10, activation='softmax')(x)\n",
    "model = Model(inputs=inputs, outputs=outputs)\n",
    "\n",
    "Strati (Layers e creazione del modello)\n",
    "\n",
    "Compilazione del Modello (si specificano modelli di ottimizzazione, funzioni di perdita, le metriche)\n",
    "model.compile(optimizer='adam',\n",
    "              loss='categorical_crossentropy',\n",
    "              metrics=['accuracy'])\n",
    "\n",
    "Addestramento e Valutazione (predizione e test sui dati effettivi)\n",
    "model.fit(x_train, y_train, epochs=5, batch_size=32)\n",
    "\n",
    "loss_and_metrics = model.evaluate(x_test, y_test, batch_size=128)\n",
    "predictions = model.predict(x_new)"
   ]
  },
  {
   "cell_type": "code",
   "execution_count": 1,
   "metadata": {},
   "outputs": [],
   "source": [
    "import numpy as np\n",
    "import matplotlib.pyplot as plt\n",
    "\n",
    "from tensorflow.keras.datasets import mnist\n",
    "from tensorflow.keras.models import Sequential\n",
    "from tensorflow.keras.layers import Dense, Flatten\n",
    "from tensorflow.keras.utils import to_categorical"
   ]
  }
 ],
 "metadata": {
  "kernelspec": {
   "display_name": "Python 3",
   "language": "python",
   "name": "python3"
  },
  "language_info": {
   "codemirror_mode": {
    "name": "ipython",
    "version": 3
   },
   "file_extension": ".py",
   "mimetype": "text/x-python",
   "name": "python",
   "nbconvert_exporter": "python",
   "pygments_lexer": "ipython3",
   "version": "3.8.10"
  }
 },
 "nbformat": 4,
 "nbformat_minor": 2
}
