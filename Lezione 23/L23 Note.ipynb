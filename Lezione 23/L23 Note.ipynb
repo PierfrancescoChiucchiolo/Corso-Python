{
 "cells": [
  {
   "cell_type": "markdown",
   "metadata": {},
   "source": [
    "Algebra Lineare (scipy.linalg)\n",
    "Integrazione e Equazioni Differenziali (scipy.integrate)\n",
    "Statistica (scipy.stats)\n",
    "\n",
    "Ottimizzazione (scipy.optimize)\n",
    "Elaborazione del Segnale (scipy.signal)\n",
    "Trasformate di Fourier (scipy.fft)"
   ]
  },
  {
   "cell_type": "markdown",
   "metadata": {},
   "source": [
    "ANI is mainly used to perform specific jobs without learning beyond what it’s meant for.\n",
    "\n",
    "AGI: General AI, or Strong AI\n",
    "AGI is like human intelligence and can do many things at once.\n",
    "\n",
    "ASI: Artificial Super:ntelligence\n",
    "ASI is smarter than the human mind and can perform any task better."
   ]
  },
  {
   "cell_type": "markdown",
   "metadata": {},
   "source": [
    "Reti Neurali Artificiali: Le reti neurali artificiali (ANN) sono modelli computazionali ispirati alla struttura del cervello umano. \n",
    "\n",
    "Sono composte da strati di neuroni artificiali che elaborano le informazioni attraverso connessioni sinaptiche simulate. Le reti\n",
    "neurali sono particolarmente efficaci per problemi complessi come il riconoscimento di immagini, l'elaborazione del linguaggio naturale e la previsione di serie temporali.\n",
    "\n",
    "\n",
    "Machine Learning (Apprendimento Automatico) e Deep Learning (Apprendimento Profondo) sono entrambi sottocampi dell'intelligenza artificiale, ma presentano differenze chiave:\n",
    "\n",
    "Machine Learning\n",
    "Definizione: Disciplina che permette ai computer di apprendere dai dati senza essere esplicitamente programmati per ogni compito.\n",
    "Tecniche: Include algoritmi come regressione lineare, alberi decisionali, SVM, k-NN, clustering, ecc.\n",
    "Feature Engineering: Richiede spesso l'estrazione manuale di caratteristiche dai dati per alimentare gli algoritmi di apprendimento.\n",
    "\n",
    "Deep Learning\n",
    "Definizione: Sottocampo del machine learning che utilizza reti neurali artificiali profonde per modellare e comprendere dati complessi.\n",
    "Reti Neurali Profonde: Composte da molti strati (layers) che permettono di apprendere rappresentazioni gerarchiche dei dati.\n",
    "Feature Learning Automatizzato: Le reti neurali possono estrarre automaticamente le caratteristiche rilevanti dai dati grezzi.\n",
    "\n",
    "\n",
    "Struttura del Modello:\n",
    "Machine Learning: Modelli più semplici o reti neurali con pochi strati.\n",
    "Deep Learning: Reti neurali con molti strati, capaci di apprendere rappresentazioni complesse.\n",
    "Dati Necessari:\n",
    "Machine Learning: Può funzionare bene con dataset di dimensioni moderate.\n",
    "Deep Learning: Richiede grandi quantità di dati per evitare overfitting e ottenere buone prestazioni.\n",
    "Potenza Computazionale:\n",
    "Machine Learning: Meno esigente in termini di risorse computazionali.\n",
    "Deep Learning: Richiede hardware potente (come GPU) per l'addestramento.\n",
    "Feature Engineering:\n",
    "Machine Learning: Spesso necessita di pre-elaborazione e selezione manuale delle caratteristiche.\n",
    "Deep Learning: Esegue l'apprendimento delle caratteristiche in modo autonomo.\n",
    "Applicazioni Tipiche:\n",
    "Machine Learning: Previsioni statistiche, analisi di dati strutturati, sistemi di raccomandazione.\n",
    "Deep Learning: Riconoscimento di immagini e voce, elaborazione del linguaggio naturale, guida autonoma.ANI: Narrow AI, or Weak AI\n",
    "\n"
   ]
  }
 ],
 "metadata": {
  "language_info": {
   "name": "python"
  }
 },
 "nbformat": 4,
 "nbformat_minor": 2
}
