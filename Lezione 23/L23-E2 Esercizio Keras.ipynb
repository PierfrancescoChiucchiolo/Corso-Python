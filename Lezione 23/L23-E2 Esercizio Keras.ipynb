{
 "cells": [
  {
   "cell_type": "markdown",
   "metadata": {},
   "source": [
    "Importazione delle Librerie:\n",
    "numpy per operazioni numeriche.\n",
    "keras.datasets.mnist per caricare il dataset.\n",
    "keras.models.Sequential per costruire il modello sequenziale.\n",
    "keras.layers per aggiungere strati al modello.\n",
    "keras.utils.to_categorical per convertire le etichette in formato one-hot.\n",
    "Caricamento e Preprocessing dei Dati:\n",
    "Il dataset MNIST viene suddiviso in dati di addestramento e di test.\n",
    "I valori dei pixel vengono normalizzati per accelerare l'addestramento.\n",
    "Le etichette vengono convertite in vettori one-hot per la classificazione multi-classe.\n",
    "Costruzione del Modello:\n",
    "Flatten: Appiattisce le immagini 28x28 in vettori di 784 elementi.\n",
    "Dense(128, activation='relu'): Strato completamente connesso con 128 neuroni e funzione di\n",
    "attivazione ReLU.\n",
    "Dense(10, activation='softmax'): Strato di output con 10 neuroni per le 10 classi e attivazione\n",
    "softmax.\n",
    "Compilazione del Modello:\n",
    "optimizer='adam': Utilizza l'ottimizzatore Adam per l'aggiornamento dei pesi.\n",
    "loss='categorical_crossentropy': Funzione di perdita per la classificazione multi-classe.\n",
    "metrics=['accuracy']: Monitora l'accuratezza durante l'addestramento.\n",
    "Addestramento del Modello:\n",
    "epochs=5: Il modello verrà addestrato per 5 epoche.\n",
    "batch_size=32: Dimensione del batch per l'aggiornamento dei pesi.\n",
    "validation_split=0.1: Il 10% dei dati di addestramento verrà utilizzato per la validazione.\n",
    "Valutazione del Modello:\n",
    "model.evaluate(): Valuta la perdita e l'accuratezza sul set di test.\n",
    "Stampa l'accuratezza ottenuta sul set di test.\n",
    "Fare Predizioni:\n",
    "model.predict(): Genera le predizioni per il set di test.\n",
    "np.argmax(): Trova la classe con la probabilità più alta.\n",
    "Stampa la classe predetta per la prima immagine di test."
   ]
  }
 ],
 "metadata": {
  "language_info": {
   "name": "python"
  }
 },
 "nbformat": 4,
 "nbformat_minor": 2
}
