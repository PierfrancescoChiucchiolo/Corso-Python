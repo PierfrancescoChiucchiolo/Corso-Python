{
 "cells": [
  {
   "cell_type": "markdown",
   "metadata": {},
   "source": [
    "pierfrancescochiucchiolo@gmail.com\n"
   ]
  },
  {
   "cell_type": "markdown",
   "metadata": {},
   "source": [
    "standard scaler\n",
    "\n",
    "\n",
    "Le classi sono fondamentalmente uno stampino per degli oggetti, modellano quali dati (attributi), metodi (funzioni degli oggetti). Ad ogni classe deve essere collegato un costruttore, così come \"se non hai un avvocato te ne sarà assegnato uno d'ufficio\" python assegna un costruttore standard di base ed è anche possibile non toccarlo, ma sarebbe opportuno modificarlo, eventualmente tramite overloading con diversi parametri, o comunque se ereditato può anche essere semplicemente usato quello della classe padre tramite ereditarietà"
   ]
  },
  {
   "cell_type": "markdown",
   "metadata": {},
   "source": [
    "Descrizione:  Crea un programma in Python per gestire una semplice libreria di libri. Il programma dovrebbe presentare un menu all'utente con le seguenti opzioni:\n",
    "Aggiungere un nuovo libro: L'utente può inserire il titolo, l'autore e l'anno di pubblicazione del libro e quantità.\n",
    "Visualizzare tutti i libri: Mostra una lista di tutti i libri attualmente nella libreria.\n",
    "Cercare un libro per titolo: L'utente inserisce un titolo e il programma cerca e mostra i dettagli del libro se trovato.\n",
    "Gestione libri: Far rimuovere modificare e/o aggiungere una compia in più del libro\n",
    "Uscire dal programma: Termina l'esecuzione del programma"
   ]
  },
  {
   "cell_type": "markdown",
   "metadata": {},
   "source": [
    "Il machine learning è un sottoinsieme dell'intelligenza artificiale e permette alla macchina di apprendere un compito senza che venga esplicitamente addestrata a farlo, solo tramite inferenza di dati e scoprendo pattern, principalmente ciò avviene in modo supervisionato o no (si assegnano pesi oppure si lascia che la macchina apprenda da se)\n",
    "\n",
    "Esistono molteplici fasi, ma in maniera più completa possibile possiamo dire che possono essercene al massimo 8:\n",
    "\n",
    "Carimento e preparazione dei dati (Normalizzazione e adattamento al modello)\n",
    "\n",
    "Split dei valori in Training e Test (solitamente 80/20 presi a random dal campione)\n",
    "\n",
    "Selezione del modello (regressione/classificazione/clustering)\n",
    "\n",
    "Addestramento o Fit del modello (i pesi vengono aggiunti al modello)\n",
    "\n",
    "Predizione (applica i dati tratti da training sul test)\n",
    "\n",
    "Valutazione (accuracy del modello estratto)\n",
    "\n",
    "Ottimizzazione (concetto di miglioramento del sistema per rendere il modello più funzionale, gli iperparametri vengono regolati, per esempio con validazione incrociata)\n",
    "\n",
    "Implementazione (previsione su dati reali)"
   ]
  },
  {
   "cell_type": "markdown",
   "metadata": {},
   "source": [
    "fit, predict e score\n",
    "\n",
    "\n",
    "\n",
    "Ritengo che la domanda precedente sia mal posta, potrebbe essere tutte e 4 al contempo siccome  una query è un interrogazione, atta a richiedere e manipolare dati, su di un sistema che risponde alla query, che può essere una struttura o un database, che è esso stesso una struttura, siccome organizza dati in maniera relazionale o no. Tecnicamente una query è un istruzione, un comando, che viene eseguito su una macchina, che sia essa un client o un server o qualunque cosa nel mezzo non ci importa, ma nello specifico scelgo \"Richiedere e manipolare dati in un database\" perché genericamente SQL è associato all'interrogazione di database, quindi ritengo più attinente questa accezione\n",
    "\n",
    "Un join è un operazione fondamentale su tables, ci permette di mettere in comunicazione due tables purché ci sia un criterio secondo il quale unire i dati, ovvero la chiave che li accomuna.\n",
    "Specifichiamo \"table_a JOIN table_b ON table_a.chiave = table_b.chiave\" in modo che otteniamo solo e soltanto il sottoinsieme del prodotto cartesiano dove questa uguaglianza è verificata.\n",
    "Possiamo fornire ulteriori varianti a seconda degli insiemi coinvolti:\n",
    "INNER (intersezione, solo parti comuni tra A e B)\n",
    "OUTER (A + B eccetto parti comuni tra A e B)\n",
    "LEFT (A e le parti comuni tra A e B)\n",
    "RIGHT (B e le parti comuni tra A e B)\n",
    "\n",
    "\n",
    "Inoltre non ho trovato alcun comando SQL sotto il nome di \"CHARGE\" o \"CHANGE\"\n",
    "\n",
    "\n",
    "update e insert"
   ]
  },
  {
   "cell_type": "code",
   "execution_count": null,
   "metadata": {},
   "outputs": [],
   "source": [
    "## esercizio su ML"
   ]
  },
  {
   "cell_type": "markdown",
   "metadata": {},
   "source": [
    "La pre-analisi / preparazione dei dati\n"
   ]
  },
  {
   "cell_type": "markdown",
   "metadata": {},
   "source": [
    "La differenza principale è il grado di comprensione dei dati e quanto questi modelli riescano a lavorare al di fuori del proprio contesto, mentre il ML esegue un singolo compito specifico il DL riesce ad adottare comportamenti più complessi e \"comprende\" meglio i dati, ML richiede un certo grado di input umano per poter funzionare in maniera ottimale, mentre DL riesce ad essere più autonomo.\n",
    "\n",
    "ML ha strati semplici, può funzionare su dataset moderati, non è prestazionalmente esigente, richiede un minimo di intervento umano.\n",
    "DL ha strati più complessi, richiede dati più numerosi per evitare overfitting e un hardware più prestante, riesce a svolgere compiti come il riconoscimento di voce e immagini.\n",
    "\n",
    "\n",
    "\n",
    "C'è un piccolo typo nelle risposte, \"TensoFlow\" è ovviamente un typo per \"TensorFlow\".\n",
    "Sotto un certo punto di vista la risposta corretta sarebbe \"Nessuna delle seguenti\", ma rispondo Keras per via del typo precedente\n",
    "\n",
    "TensoFlow.Keras\n",
    "\n",
    "\n",
    "\n",
    "regressione lineare / clustering / svm\n",
    "\n",
    "\n",
    "\n",
    "Elementi del DL:\n",
    "\n",
    "Modello Sequenziale (API semplice senza diramazioni)\n",
    "\n",
    "Modello Funzionale (modelli più complessi, entrare e uscite multiple, più flessibile)\n",
    "\n",
    "Strati (Layers e creazione del modello) \n",
    "\n",
    "Compilazione del Modello (si specificano modelli di ottimizzazione, funzioni di perdita, le metriche)\n",
    "\n",
    "Addestramento e Valutazione (predizione e test sui dati effettivi)\n",
    "\n",
    "\n",
    "\n",
    "SeaBorn"
   ]
  },
  {
   "cell_type": "code",
   "execution_count": null,
   "metadata": {},
   "outputs": [],
   "source": [
    "'''\n",
    "\n",
    "18.Esercizio 3: Pandas e Numpy e Visualizzazione \n",
    "Descrizione: Crea un dataset autogenerandolo monolineare con 50 posizioni matematica e cambia la sua forma in 10 file da 5\n",
    "normalizza i valori e rendili interi , nessun valore deve essere uguale a un altro sulla stessa linea della collezione\n",
    "dopodiché stampa un grafico che lo rappresenti\n",
    "\n",
    "'''"
   ]
  },
  {
   "cell_type": "markdown",
   "metadata": {},
   "source": [
    "meme:\n",
    "\n",
    "\n",
    "https://cdn.discordapp.com/attachments/699229637313691720/1312009803047895128/download.jpg?ex=674aefd9&is=67499e59&hm=8c7b08c4e04c9b6cbd8a3d2ecb54beaf0c89ed19ca33fb24966980ef35d7f9cf&"
   ]
  }
 ],
 "metadata": {
  "kernelspec": {
   "display_name": "Python 3",
   "language": "python",
   "name": "python3"
  },
  "language_info": {
   "codemirror_mode": {
    "name": "ipython",
    "version": 3
   },
   "file_extension": ".py",
   "mimetype": "text/x-python",
   "name": "python",
   "nbconvert_exporter": "python",
   "pygments_lexer": "ipython3",
   "version": "3.8.10"
  }
 },
 "nbformat": 4,
 "nbformat_minor": 2
}
