{
 "cells": [
  {
   "cell_type": "markdown",
   "metadata": {},
   "source": [
    "github del prof\n",
    "\n",
    "https://github.com/MaSTERmIKK/AulaMLandAI\n",
    "\n",
    "qui ci sono i codici anche degli esercizi che non sono riuscito a fare"
   ]
  },
  {
   "cell_type": "markdown",
   "metadata": {},
   "source": [
    "Carimento e preparazione dei dati (Normalizzazione e adattamento al modello)\n",
    "\n",
    "Split dei valori in Training e Test (solitamente 80/20 presi a random dal campione)\n",
    "\n",
    "Selezione del modello (regressione/classificazione/clustering)\n",
    "\n",
    "Addestramento o Fit del modello, dove i pesi vengono aggiunti al modello\n",
    "\n",
    "Predizione (applica i dati tratti da training sul test)\n",
    "\n",
    "Valutazione (accuracy del modello estratto)\n",
    "\n",
    "Ottimizzazione (concetto di miglioramento del sistema per rendere il modello più funzionale, gli iperparametri vengono regolati, per esempio con validazione incrociata)\n",
    "\n",
    "Implementazione (previsione su dati reali)"
   ]
  },
  {
   "cell_type": "markdown",
   "metadata": {},
   "source": [
    "Passaggi Generali per Definire e Utilizzare un Modello\n",
    "\n",
    "Importare la Classe del Modello:\n",
    "Tutti i modelli sono disponibili all'interno dei moduli di scikit-learn, come sklearn.linear_model, sklearn.ensemble, sklearn.svm, ecc.\n",
    "\n",
    "Creare un'Istanze del Modello:\n",
    "Definisci il modello specificando gli iperparametri desiderati.\n",
    "\n",
    "Addestrare il Modello:\n",
    "Utilizza il metodo .fit(X_train, y_train) per addestrare il modello sui dati di training.\n",
    "\n",
    "Effettuare Predizioni:\n",
    "Usa il metodo .predict(X_test) per generare predizioni sui nuovi dati.\n",
    "\n",
    "Valutare le Prestazioni:\n",
    "Utilizza metriche appropriate come accuratezza, errore quadratico medio, ecc., per valutare le prestazioni del modello."
   ]
  },
  {
   "cell_type": "markdown",
   "metadata": {},
   "source": [
    "Famiglie dei modelli che conosciamo:\n",
    "\n",
    "regressione/classificazione/clustering (kmins e kneighbors)/asbn/pipeline/embedded\n",
    "\n",
    "regressione lineare:\n",
    "trova correlazione tra variabili indipendenti e dipendenti in base alla loro distanza\n",
    "\n",
    "K-Nearest Neighbors (KNN) è invece un algoritmo di classificazione che assegna una classe a un'osservazione in base alle classi delle osservazioni più vicine in termini di distanza (spazio delle caratteristiche)\n",
    "\n",
    "modelli lineari:\n",
    "regressione lineare (modella la relazione tra una variabile dipendente continua e più variabili indipendenti)\n",
    "iperpiano è la linea che unisce tutte le variabili indipendenti coerentemente con i dati\n",
    "\n",
    "regressione logistica:\n",
    "classificazione binaria o multiclasse, modella la probabilità che un osservazione ad una classe\n",
    "\n",
    "macchine a vettori di supporto (svm):\n",
    "trovano l'iperpiano che massimizza il margine tra le classi di addestramento\n",
    "Le SVM sono modelli di apprendimento supervisionato utilizzati per problemi di classificazione e regressione.\n",
    "Trovano l'iperpiano che massimizza il margine tra le classi.\n",
    "\n",
    "\n"
   ]
  }
 ],
 "metadata": {
  "language_info": {
   "name": "python"
  }
 },
 "nbformat": 4,
 "nbformat_minor": 2
}
