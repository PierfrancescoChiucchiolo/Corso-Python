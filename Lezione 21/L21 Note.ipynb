{
 "cells": [
  {
   "cell_type": "markdown",
   "metadata": {},
   "source": [
    "github del prof\n",
    "\n",
    "https://github.com/MaSTERmIKK/AulaMLandAI\n",
    "\n",
    "qui ci sono i codici anche degli esercizi che non sono riuscito a fare"
   ]
  }
 ],
 "metadata": {
  "language_info": {
   "name": "python"
  }
 },
 "nbformat": 4,
 "nbformat_minor": 2
}
