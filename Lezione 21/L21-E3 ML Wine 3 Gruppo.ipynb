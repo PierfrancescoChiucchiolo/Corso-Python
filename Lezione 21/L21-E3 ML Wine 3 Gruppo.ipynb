{
 "cells": [
  {
   "cell_type": "markdown",
   "metadata": {},
   "source": [
    "Creare un modello di classificazione avanzato\n",
    "utilizzando il dataset \"Wine\" di scikit-learn\n",
    "Il modello dovrà:\n",
    "\n",
    "Pre-elaborare i dati con scaling standard.\n",
    "Ridurre la dimensionalità con PCA per\n",
    "migliorare l'efficienza computazionale.\n",
    "Utilizzare un modello di Gradient Boosting\n",
    "Classifier.\n",
    "Ottimizzare gli iperparametri con\n",
    "RandomizedSearchCV.\n",
    "Valutare le prestazioni utilizzando\n",
    "StratifiedKFold per mantenere la proporzione\n",
    "delle classi."
   ]
  },
  {
   "cell_type": "code",
   "execution_count": null,
   "metadata": {},
   "outputs": [],
   "source": [
    "from sklearn.datasets import load_wine\n",
    "from sklearn.model_selection import train_test_split\n",
    "from sklearn.neighbors import KNeighborsClassifier\n",
    "from sklearn.metrics import accuracy_score\n",
    "from sklearn.preprocessing import StandardScaler\n",
    "from sklearn.tree import DecisionTreeClassifier\n",
    "\n",
    "from sklearn.model_selection import cross_val_score\n",
    "\n",
    "from sklearn.metrics import confusion_matrix\n",
    "\n",
    "from sklearn.metrics import classification_report\n",
    "\n",
    "import numpy as np\n",
    "import pandas as pd\n",
    "import matplotlib.pyplot as plt\n",
    "import seaborn as sns\n",
    "import random\n",
    "\n",
    "\n",
    "# Moduli di scikit-learn\n",
    "from sklearn.datasets import load_wine\n",
    "from sklearn.decomposition import PCA\n",
    "from sklearn.model_selection import train_test_split, GridSearchCV\n",
    "from sklearn.ensemble import RandomForestClassifier\n",
    "from sklearn.metrics import (accuracy_score, precision_score, recall_score, f1_score, confusion_matrix)\n",
    "\n",
    "\n",
    "\n",
    "# Configura le visualizzazioni\n",
    "%matplotlib inline\n",
    "sns.set(style='whitegrid')"
   ]
  },
  {
   "cell_type": "code",
   "execution_count": null,
   "metadata": {},
   "outputs": [],
   "source": [
    "## from sklearn.datasets import load_wine\n",
    "wine = load_wine()\n",
    "X = wine.data  # caratteristiche\n",
    "y = wine.target  # target\n",
    "feature_names = wine.feature_names\n",
    "target_names = wine.target_names\n",
    "\n",
    "\n",
    "## rubato da https://www.geeksforgeeks.org/wine-dataset/\n",
    "# Load the wine dataset into a DataFrame\n",
    "wine_data = load_wine(as_frame=True)\n",
    "wine_df = pd.DataFrame(X, columns = feature_names)\n",
    "wine_df['target'] = y"
   ]
  },
  {
   "cell_type": "code",
   "execution_count": null,
   "metadata": {},
   "outputs": [],
   "source": [
    "\n",
    "\n",
    "## Ottimizzare gli iperparametri con RandomizedSearchCV.\n",
    "\n",
    "'''pipeline = Pipeline([\n",
    "    ('scaler', StandardScaler()),\n",
    "    ('pca', PCA()),\n",
    "    ('gbc',\n",
    "GradientBoostingClassifier(random_state=42))\n",
    "])\n",
    "\n",
    "# Definizione della distribuzione dei parametri\n",
    "param_dist = {\n",
    "    'pca__n_components': sp_randint(5, 13),\n",
    "    'gbc__n_estimators': sp_randint(50, 200),\n",
    "    'gbc__learning_rate': uniform(0.01, 0.2),\n",
    "    'gbc__max_depth': sp_randint(1, 5),\n",
    "    'gbc__subsample': uniform(0.6, 0.4),\n",
    "    'gbc__min_samples_split': sp_randint(2, 10),\n",
    "    'gbc__min_samples_leaf': sp_randint(1, 10),\n",
    "    'gbc__max_features': ['auto', 'sqrt', 'log2', None]\n",
    "}\n",
    "\n",
    "\n",
    "# Configurazione della validazione incrociata stratificata\n",
    "cv = StratifiedKFold(n_splits=5, shuffle=True, random_state=42)'''\n",
    "\n",
    "# Configurazione di RandomizedSearchCV\n",
    "random_search = RandomizedSearchCV(n_iter=50, cv=cv,\n",
    "    scoring='accuracy', random_state=42, n_jobs=-1)"
   ]
  },
  {
   "cell_type": "code",
   "execution_count": null,
   "metadata": {},
   "outputs": [],
   "source": [
    "## Valutare le prestazioni utilizzando StratifiedKFold per mantenere la proporzione delle classi."
   ]
  }
 ],
 "metadata": {
  "language_info": {
   "name": "python"
  }
 },
 "nbformat": 4,
 "nbformat_minor": 2
}
